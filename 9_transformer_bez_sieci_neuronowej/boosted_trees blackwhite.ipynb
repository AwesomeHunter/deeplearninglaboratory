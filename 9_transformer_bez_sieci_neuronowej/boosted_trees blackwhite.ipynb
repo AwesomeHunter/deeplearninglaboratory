{
 "cells": [
  {
   "cell_type": "code",
   "execution_count": null,
   "metadata": {},
   "outputs": [],
   "source": [
    "import numpy as np\n",
    "from sklearn.datasets import fetch_openml\n",
    "from sklearn.model_selection import train_test_split\n",
    "from xgboost import XGBRegressor, XGBClassifier\n",
    "from sklearn.preprocessing import StandardScaler\n",
    "import matplotlib.pyplot as plt\n",
    "\n",
    "# Load MNIST data\n",
    "mnist = fetch_openml('mnist_784', version=1)\n",
    "X, y = mnist[\"data\"], mnist[\"target\"].astype(np.uint8)\n",
    "\n",
    "# Filter for images of the digit 5\n",
    "X_5 = X[y == 5]\n",
    "\n",
    "# Split data for a small experiment (to reduce computational load)\n",
    "# In practice, you'd use much more data\n",
    "X_train_5, X_test_5 = train_test_split(X_5, test_size=0.95, random_state=42)\n"
   ]
  },
  {
   "cell_type": "code",
   "execution_count": null,
   "metadata": {},
   "outputs": [],
   "source": [
    "X_train_5 = X_train_5.to_numpy()\n"
   ]
  },
  {
   "cell_type": "code",
   "execution_count": null,
   "metadata": {},
   "outputs": [],
   "source": [
    "X_train_5_bw = np.round(X_train_5/255., 0).astype(np.uint8)"
   ]
  },
  {
   "cell_type": "code",
   "execution_count": null,
   "metadata": {},
   "outputs": [],
   "source": [
    "plt.imshow(X_train_5_bw[0].reshape(28, 28), cmap='gray')\n",
    "plt.title(\"Generated Image of Digit 5\")\n",
    "plt.show()"
   ]
  },
  {
   "cell_type": "code",
   "execution_count": null,
   "metadata": {},
   "outputs": [],
   "source": [
    "# Train a model for each pixel\n",
    "models = []\n",
    "for i in range(X_train_5_bw.shape[1]):  # For each pixel\n",
    "    print(f\"Training model for pixel {i+1}/{X_train_5_bw.shape[1]}\\r\", end=\"\")\n",
    "    y_train = X_train_5_bw[:, i]\n",
    "    X_train = np.delete(X_train_5_bw, i, axis=1)  # Use all other pixels as features\n",
    "    model = XGBClassifier(objective='reg:squarederror', n_estimators=10, max_depth=26, device='cuda')  # Simplified model\n",
    "    model.fit(X_train, y_train)\n",
    "    models.append(model)"
   ]
  },
  {
   "cell_type": "code",
   "execution_count": null,
   "metadata": {},
   "outputs": [],
   "source": [
    "\n",
    "# Generate a new image\n",
    "# Start with a random image or the mean image; here we use a random one\n",
    "new_image =  np.random.choice([0, 1], size=(1, 28*28))\n",
    "#new_image = np.zeros((1, X_train_5_bw.shape[1]))  # Start with a black image\n",
    "for _ in range(1000):  # Iterate to refine the image\n",
    "    for i in np.random.permutation(X_train_5_bw.shape[1]):  # Random order of pixels\n",
    "        X_gen = np.delete(new_image, i, axis=1)\n",
    "        p = np.clip(models[i].predict_proba(X_gen)[0][1], 0, 1)\n",
    "        #print(p)\n",
    "        new_image[:, i] = np.random.choice([0,1], p=[1-p, p])\n",
    "\n",
    "    # Transform the generated image back to the original space\n",
    "    print_image = new_image\n",
    "\n",
    "    # Plot the generated image\n",
    "    plt.imshow(print_image.reshape(28, 28), cmap='gray')\n",
    "    plt.title(\"Generated Image of Digit 5\")\n",
    "    plt.show()\n"
   ]
  },
  {
   "cell_type": "code",
   "execution_count": null,
   "metadata": {},
   "outputs": [],
   "source": []
  }
 ],
 "metadata": {
  "kernelspec": {
   "display_name": "base",
   "language": "python",
   "name": "python3"
  },
  "language_info": {
   "codemirror_mode": {
    "name": "ipython",
    "version": 3
   },
   "file_extension": ".py",
   "mimetype": "text/x-python",
   "name": "python",
   "nbconvert_exporter": "python",
   "pygments_lexer": "ipython3",
   "version": "3.11.7"
  }
 },
 "nbformat": 4,
 "nbformat_minor": 2
}

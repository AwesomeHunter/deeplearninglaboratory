{
  "cells": [
    {
      "cell_type": "markdown",
      "metadata": {
        "id": "I219TQHVungR"
      },
      "source": [
        "## Imports"
      ]
    },
    {
      "cell_type": "code",
      "execution_count": 1,
      "metadata": {
        "id": "Aef5-4-guDax"
      },
      "outputs": [],
      "source": [
        "import numpy as np\n",
        "import torch\n",
        "import torch.nn.functional as F\n",
        "from tqdm import tqdm\n",
        "import matplotlib.pyplot as plt\n",
        "from sklearn.decomposition import PCA"
      ]
    },
    {
      "cell_type": "markdown",
      "metadata": {
        "id": "HJZ6rKfIuytD"
      },
      "source": [
        "## Data utils"
      ]
    },
    {
      "cell_type": "code",
      "execution_count": 2,
      "metadata": {
        "id": "56AMBhX1u5Px"
      },
      "outputs": [],
      "source": [
        "data = \"AB#\"\n",
        "vocab_size = len(set(data))\n",
        "char2int = {char: i for i, char in enumerate(data)}\n",
        "int2char = {i: char for i, char in enumerate(data)}\n",
        "PATTERN = \"ABBA\""
      ]
    },
    {
      "cell_type": "code",
      "execution_count": 3,
      "metadata": {
        "colab": {
          "base_uri": "https://localhost:8080/"
        },
        "id": "31hwV86ju_73",
        "outputId": "6886cc9a-3b34-4983-e314-83eb4530f1c4"
      },
      "outputs": [
        {
          "name": "stdout",
          "output_type": "stream",
          "text": [
            "[0, 1, 0, 1, 0, 1, 1, 0, 2]\n",
            "[0, 0, 1, 1, 1, 0, 0, 0, 1, 0, 0, 1, 0, 0, 1, 1, 0, 2]\n",
            "[0, 0, 1, 1, 0, 2]\n",
            "[1, 0, 1, 1, 0, 2]\n",
            "[0, 1, 1, 1, 1, 1, 1, 0, 1, 0, 0, 0, 1, 1, 0, 2]\n"
          ]
        }
      ],
      "source": [
        "def make_seq():\n",
        "    ix_pattern = [char2int[c] for c in PATTERN]\n",
        "    seq = []\n",
        "    while seq[-len(PATTERN):] != ix_pattern:\n",
        "        seq.append(np.random.randint(2))\n",
        "    return seq + [char2int[\"#\"]]\n",
        "\n",
        "for _ in range(5):\n",
        "    print(make_seq())"
      ]
    },
    {
      "cell_type": "code",
      "execution_count": 4,
      "metadata": {
        "colab": {
          "base_uri": "https://localhost:8080/"
        },
        "id": "2tEQxvNLviAA",
        "outputId": "f59db159-4ab4-4e59-eecc-d0983256e3ec"
      },
      "outputs": [
        {
          "name": "stdout",
          "output_type": "stream",
          "text": [
            "tensor([0., 1., 0.]) -> B\n",
            "tensor([0., 1., 0.]) -> B\n",
            "tensor([0., 1., 0.]) -> B\n",
            "tensor([0., 1., 0.]) -> B\n",
            "tensor([1., 0., 0.]) -> A\n",
            "tensor([1., 0., 0.]) -> A\n",
            "tensor([0., 1., 0.]) -> B\n",
            "tensor([0., 1., 0.]) -> B\n",
            "tensor([0., 1., 0.]) -> B\n",
            "tensor([1., 0., 0.]) -> A\n",
            "tensor([1., 0., 0.]) -> A\n",
            "tensor([1., 0., 0.]) -> A\n",
            "tensor([1., 0., 0.]) -> A\n",
            "tensor([0., 1., 0.]) -> B\n",
            "tensor([0., 1., 0.]) -> B\n",
            "tensor([1., 0., 0.]) -> A\n",
            "tensor([0., 0., 1.]) -> #\n"
          ]
        }
      ],
      "source": [
        "def one_hot(seq):\n",
        "    return torch.stack([torch.eye(vocab_size)[i] for i in seq])\n",
        "\n",
        "def token2char(token):\n",
        "    if token.numpy().item(0) == 1.:\n",
        "        return \"A\"\n",
        "    if token.numpy().item(1) == 1.:\n",
        "        return \"B\"\n",
        "    if token.numpy().item(2) == 1.:\n",
        "        return \"#\"\n",
        "\n",
        "for row in one_hot(make_seq()):\n",
        "    print(f\"{row} -> {token2char(row)}\")"
      ]
    },
    {
      "cell_type": "markdown",
      "metadata": {
        "id": "EYEiKF-VvZjM"
      },
      "source": [
        "## Visualization utils"
      ]
    },
    {
      "cell_type": "code",
      "execution_count": 5,
      "metadata": {
        "id": "TMqS0K-6vRnv"
      },
      "outputs": [],
      "source": [
        "def viz(hidden_states, states, hidden_size, path):\n",
        "    last_hidden_states = hidden_states[-1000:]\n",
        "    last_states = states[-1000:]\n",
        "    states_np = np.asarray(last_hidden_states).reshape(-1, hidden_size)\n",
        "\n",
        "    pca = PCA(n_components=2)\n",
        "    X_embedded = pca.fit_transform(states_np)\n",
        "\n",
        "\n",
        "    fig, ax = plt.subplots()\n",
        "    scatter = ax.scatter(X_embedded[:,0], X_embedded[:,1], c=last_states)\n",
        "    legend1 = ax.legend(handles=scatter.legend_elements()[0],\n",
        "                        labels=[PATTERN[:i] for i in range(len(PATTERN+\"#\"))],\n",
        "                        title=\"STATES\", loc=\"best\")\n",
        "\n",
        "    ax.add_artist(legend1)\n",
        "\n",
        "    plt.savefig(path)\n",
        "    plt.show()\n",
        "    plt.close()"
      ]
    },
    {
      "cell_type": "code",
      "execution_count": 6,
      "metadata": {
        "id": "9dKq2N8TvYBF"
      },
      "outputs": [],
      "source": [
        "class DFA:\n",
        "    def __init__(self, pattern):\n",
        "        self.pattern = pattern + \"#\"\n",
        "        self.state = \"\"\n",
        "\n",
        "    def transition(self, char):\n",
        "        tentative_state = self.state + char\n",
        "        N = len(tentative_state)\n",
        "        if tentative_state == self.pattern[:N]:\n",
        "            self.state = tentative_state\n",
        "        else:\n",
        "            for i in range(N+1):\n",
        "                if tentative_state[i:] == self.pattern[:N-i]:\n",
        "                    self.state = tentative_state[i:]\n",
        "                    break\n",
        "        return self.state\n",
        "\n",
        "    def hsh(self):\n",
        "        return len(self.state)"
      ]
    },
    {
      "cell_type": "markdown",
      "metadata": {
        "id": "Rh8yEiSbwNye"
      },
      "source": [
        "## Language model"
      ]
    },
    {
      "cell_type": "code",
      "execution_count": 7,
      "metadata": {
        "id": "-qNDDjpcwP5S"
      },
      "outputs": [],
      "source": [
        "# network parameters\n",
        "hidden_size = 6\n",
        "\n",
        "Wxh = torch.randn(vocab_size, hidden_size, requires_grad=True)\n",
        "Whh = torch.randn(hidden_size, hidden_size, requires_grad=True)\n",
        "bh = torch.zeros(hidden_size, requires_grad=True)\n",
        "\n",
        "Why = torch.randn(hidden_size, vocab_size, requires_grad=True)\n",
        "by = torch.zeros(vocab_size, requires_grad=True)\n",
        "optimizer = torch.optim.Adam([Wxh, Whh, bh, Why, by], lr=0.005)\n",
        "loss_fn = torch.nn.CrossEntropyLoss()\n",
        "\n",
        "# containers for viz\n",
        "acc_hidden_states = list()\n",
        "states = list()\n",
        "automata = DFA(pattern=\"ABBA#\")"
      ]
    },
    {
      "cell_type": "code",
      "execution_count": 12,
      "metadata": {
        "id": "R_aQmmHExr3T"
      },
      "outputs": [],
      "source": [
        "def min_rnn(x, h):\n",
        "    def rnn_step(xt, ht):\n",
        "        return torch.tanh(xt @ Wxh + ht @ Whh + bh)\n",
        "\n",
        "    def linear(x):\n",
        "        return x @ Why + by\n",
        "\n",
        "    outputs = []\n",
        "    for t in range(x.shape[0]):\n",
        "        h = rnn_step(x[t,:], h)\n",
        "        acc_hidden_states.append(h.detach().clone().numpy())\n",
        "        automata.transition(token2char(x[t,:]))\n",
        "        states.append(automata.hsh())\n",
        "        outputs.append(linear(h))\n",
        "\n",
        "    return torch.stack(outputs, dim=1).squeeze(0), h\n"
      ]
    },
    {
      "cell_type": "code",
      "execution_count": 13,
      "metadata": {
        "id": "lIAWyGXdxvgr"
      },
      "outputs": [],
      "source": [
        "def sample():\n",
        "    seq = \"\"\n",
        "    indices = list(char2int.values())\n",
        "    with torch.no_grad():\n",
        "        i = np.random.randint(2)\n",
        "        h = torch.zeros(1, hidden_size)\n",
        "        char = int2char[i]\n",
        "        seq += char\n",
        "        while char != \"#\":\n",
        "            logits, h = min_rnn(one_hot([i]), h)\n",
        "            ps = F.softmax(logits, dim=-1)\n",
        "            i = np.random.choice(indices, p=ps.squeeze(0).numpy())\n",
        "            char = int2char[i]\n",
        "            seq += char\n",
        "    return seq"
      ]
    },
    {
      "cell_type": "code",
      "execution_count": 14,
      "metadata": {
        "colab": {
          "base_uri": "https://localhost:8080/",
          "height": 1000
        },
        "id": "SX56k8kMxzm9",
        "outputId": "21ff281c-e093-4a20-c8c8-396937cc4ab5"
      },
      "outputs": [
        {
          "name": "stderr",
          "output_type": "stream",
          "text": [
            "  0%|          | 0/30000 [00:00<?, ?it/s]\n"
          ]
        },
        {
          "ename": "TypeError",
          "evalue": "min_rnn.<locals>.rnn_step() missing 1 required positional argument: 'ht'",
          "output_type": "error",
          "traceback": [
            "\u001b[0;31m---------------------------------------------------------------------------\u001b[0m",
            "\u001b[0;31mTypeError\u001b[0m                                 Traceback (most recent call last)",
            "Cell \u001b[0;32mIn[14], line 7\u001b[0m\n\u001b[1;32m      5\u001b[0m seq \u001b[38;5;241m=\u001b[39m make_seq()\n\u001b[1;32m      6\u001b[0m inputs, targets \u001b[38;5;241m=\u001b[39m seq[:\u001b[38;5;241m-\u001b[39m\u001b[38;5;241m1\u001b[39m], seq[\u001b[38;5;241m1\u001b[39m:]\n\u001b[0;32m----> 7\u001b[0m preds, _ \u001b[38;5;241m=\u001b[39m min_rnn(one_hot(inputs), h)\n\u001b[1;32m      8\u001b[0m loss \u001b[38;5;241m=\u001b[39m loss_fn(preds, one_hot(targets))\n\u001b[1;32m     10\u001b[0m optimizer\u001b[38;5;241m.\u001b[39mzero_grad()\n",
            "Cell \u001b[0;32mIn[12], line 10\u001b[0m, in \u001b[0;36mmin_rnn\u001b[0;34m(x, h)\u001b[0m\n\u001b[1;32m      8\u001b[0m outputs \u001b[38;5;241m=\u001b[39m []\n\u001b[1;32m      9\u001b[0m \u001b[38;5;28;01mfor\u001b[39;00m t \u001b[38;5;129;01min\u001b[39;00m \u001b[38;5;28mrange\u001b[39m(x\u001b[38;5;241m.\u001b[39mshape[\u001b[38;5;241m0\u001b[39m]):\n\u001b[0;32m---> 10\u001b[0m     h \u001b[38;5;241m=\u001b[39m rnn_step(x[t,:])\n\u001b[1;32m     11\u001b[0m     acc_hidden_states\u001b[38;5;241m.\u001b[39mappend(h\u001b[38;5;241m.\u001b[39mdetach()\u001b[38;5;241m.\u001b[39mclone()\u001b[38;5;241m.\u001b[39mnumpy())\n\u001b[1;32m     12\u001b[0m     automata\u001b[38;5;241m.\u001b[39mtransition(token2char(x[t,:]))\n",
            "\u001b[0;31mTypeError\u001b[0m: min_rnn.<locals>.rnn_step() missing 1 required positional argument: 'ht'"
          ]
        }
      ],
      "source": [
        "# training\n",
        "total_loss = 0\n",
        "for epoch in tqdm(range(30000)):\n",
        "    h = torch.zeros(1, hidden_size)\n",
        "    seq = make_seq()\n",
        "    inputs, targets = seq[:-1], seq[1:]\n",
        "    preds, _ = min_rnn(one_hot(inputs), h)\n",
        "    loss = loss_fn(preds, one_hot(targets))\n",
        "\n",
        "    optimizer.zero_grad()\n",
        "    loss.backward()\n",
        "    optimizer.step()\n",
        "    total_loss += loss.item()\n",
        "\n",
        "    if (epoch) % 2000 == 50:\n",
        "        print(f\"Epoch: {epoch} Loss:{(total_loss/epoch):.4f}\")\n",
        "        print(sample()[-5:])\n",
        "        viz(acc_hidden_states, states, hidden_size, f\"{epoch}.png\")"
      ]
    },
    {
      "cell_type": "code",
      "execution_count": 11,
      "metadata": {
        "colab": {
          "base_uri": "https://localhost:8080/"
        },
        "id": "fCYYNS4zx7KR",
        "outputId": "87dc6199-6c9c-4c70-fe3b-e3ec19e6d6ae"
      },
      "outputs": [
        {
          "data": {
            "text/plain": [
              "100"
            ]
          },
          "execution_count": 11,
          "metadata": {},
          "output_type": "execute_result"
        }
      ],
      "source": [
        "sum(sample()[-5:] == \"ABBA#\" for _ in range(100)) # accuracy"
      ]
    }
  ],
  "metadata": {
    "colab": {
      "provenance": []
    },
    "kernelspec": {
      "display_name": "Python 3",
      "name": "python3"
    },
    "language_info": {
      "codemirror_mode": {
        "name": "ipython",
        "version": 3
      },
      "file_extension": ".py",
      "mimetype": "text/x-python",
      "name": "python",
      "nbconvert_exporter": "python",
      "pygments_lexer": "ipython3",
      "version": "3.11.7"
    }
  },
  "nbformat": 4,
  "nbformat_minor": 0
}
